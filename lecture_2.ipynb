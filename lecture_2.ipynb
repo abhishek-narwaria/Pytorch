{
 "cells": [
  {
   "cell_type": "code",
   "execution_count": 2,
   "id": "d6a2256d",
   "metadata": {},
   "outputs": [],
   "source": [
    "import torch"
   ]
  },
  {
   "cell_type": "code",
   "execution_count": 5,
   "id": "2f871cab",
   "metadata": {},
   "outputs": [
    {
     "name": "stdout",
     "output_type": "stream",
     "text": [
      "torch version: 1.13.1\n"
     ]
    }
   ],
   "source": [
    "print(f\"torch version: {torch.__version__}\")"
   ]
  },
  {
   "cell_type": "code",
   "execution_count": null,
   "id": "3c36cb14",
   "metadata": {},
   "outputs": [
    {
     "name": "stdout",
     "output_type": "stream",
     "text": [
      "✅ Using Apple MPS (Metal Performance Shaders)\n",
      "device is: mps\n"
     ]
    }
   ],
   "source": [
    "if torch.backends.mps.is_available() and torch.backends.mps.is_built():\n",
    "    print(\"✅ Using Apple MPS (Metal Performance Shaders)\")\n",
    "    device = torch.device(\"mps\")\n",
    "elif torch.cuda.is_available():\n",
    "    print(f\"✅ Using CUDA (GPU): {torch.cuda.get_device_name(0)}\")\n",
    "    device = torch.device(\"cuda\")\n",
    "else:\n",
    "    print(\"⚠️ No GPU available. Using CPU.\")\n",
    "    device = torch.device(\"cpu\")\n",
    "\n",
    "print(f\"device is: {device}\")"
   ]
  },
  {
   "cell_type": "code",
   "execution_count": null,
   "id": "e5fea0f0",
   "metadata": {},
   "outputs": [
    {
     "data": {
      "text/plain": [
       "tensor([[0., 0., 0.],\n",
       "        [0., 0., 0.]])"
      ]
     },
     "execution_count": 10,
     "metadata": {},
     "output_type": "execute_result"
    }
   ],
   "source": [
    "# Empty torch\n",
    "\"\"\"\n",
    "Dosen't allocate any values in the tensor, just showing whatever was in the memory before. Having\n",
    "zeros is just because maybe that memory didn't have anything to begin with\n",
    "\"\"\"\n",
    "a = torch.empty(2, 3)\n",
    "a"
   ]
  },
  {
   "cell_type": "code",
   "execution_count": 11,
   "id": "eac68199",
   "metadata": {},
   "outputs": [
    {
     "data": {
      "text/plain": [
       "torch.Tensor"
      ]
     },
     "execution_count": 11,
     "metadata": {},
     "output_type": "execute_result"
    }
   ],
   "source": [
    "# Check type\n",
    "type(a)"
   ]
  },
  {
   "cell_type": "code",
   "execution_count": 13,
   "id": "c297acc8",
   "metadata": {},
   "outputs": [
    {
     "data": {
      "text/plain": [
       "(tensor([[0., 0., 0.],\n",
       "         [0., 0., 0.]]),\n",
       " tensor([[1., 1., 1.],\n",
       "         [1., 1., 1.]]),\n",
       " tensor([[0.6473, 0.9318, 0.7871],\n",
       "         [0.4015, 0.0531, 0.3143]]))"
      ]
     },
     "execution_count": 13,
     "metadata": {},
     "output_type": "execute_result"
    }
   ],
   "source": [
    "torch.zeros(2,3), torch.ones(2,3), torch.rand(2,3)"
   ]
  },
  {
   "cell_type": "code",
   "execution_count": 15,
   "id": "7aa9d274",
   "metadata": {},
   "outputs": [
    {
     "data": {
      "text/plain": [
       "tensor([[0.7576, 0.2793, 0.4031],\n",
       "        [0.7347, 0.0293, 0.7999]])"
      ]
     },
     "execution_count": 15,
     "metadata": {},
     "output_type": "execute_result"
    }
   ],
   "source": [
    "# for reproducability we can use seed\n",
    "torch.manual_seed(1)\n",
    "torch.rand(2,3)"
   ]
  },
  {
   "cell_type": "code",
   "execution_count": 16,
   "id": "d2ba2c61",
   "metadata": {},
   "outputs": [
    {
     "data": {
      "text/plain": [
       "tensor([[1, 2, 3],\n",
       "        [4, 5, 6]])"
      ]
     },
     "execution_count": 16,
     "metadata": {},
     "output_type": "execute_result"
    }
   ],
   "source": [
    "torch.tensor([[1,2,3],[4,5,6]])"
   ]
  },
  {
   "cell_type": "code",
   "execution_count": 20,
   "id": "c4099ddf",
   "metadata": {},
   "outputs": [
    {
     "data": {
      "text/plain": [
       "(tensor([0, 2, 4, 6, 8]),\n",
       " tensor([ 0.,  5., 10.]),\n",
       " tensor([[1., 0., 0., 0., 0., 0.],\n",
       "         [0., 1., 0., 0., 0., 0.],\n",
       "         [0., 0., 1., 0., 0., 0.],\n",
       "         [0., 0., 0., 1., 0., 0.],\n",
       "         [0., 0., 0., 0., 1., 0.],\n",
       "         [0., 0., 0., 0., 0., 1.]]),\n",
       " tensor([[2, 2, 2],\n",
       "         [2, 2, 2]]))"
      ]
     },
     "execution_count": 20,
     "metadata": {},
     "output_type": "execute_result"
    }
   ],
   "source": [
    "torch.arange(0,10,2), torch.linspace(0,10,3), torch.eye(6), torch.full((2,3), 2)"
   ]
  },
  {
   "cell_type": "code",
   "execution_count": 32,
   "id": "44cde47f",
   "metadata": {},
   "outputs": [
    {
     "data": {
      "text/plain": [
       "(torch.Size([2, 3]), torch.int64)"
      ]
     },
     "execution_count": 32,
     "metadata": {},
     "output_type": "execute_result"
    }
   ],
   "source": [
    "# Shape of tensors\n",
    "a = torch.tensor([[1,2,3],[4,5,6]])\n",
    "a.shape, a.dtype"
   ]
  },
  {
   "cell_type": "code",
   "execution_count": 27,
   "id": "1a68163c",
   "metadata": {},
   "outputs": [
    {
     "data": {
      "text/plain": [
       "(tensor([[0, 0, 0],\n",
       "         [0, 0, 0]]),\n",
       " tensor([[1, 1, 1],\n",
       "         [1, 1, 1]]),\n",
       " tensor([[0, 0, 0],\n",
       "         [0, 0, 0]]))"
      ]
     },
     "execution_count": 27,
     "metadata": {},
     "output_type": "execute_result"
    }
   ],
   "source": [
    "torch.empty_like(a), torch.ones_like(a), torch.zeros_like(a)"
   ]
  },
  {
   "cell_type": "code",
   "execution_count": null,
   "id": "fee46314",
   "metadata": {},
   "outputs": [
    {
     "ename": "RuntimeError",
     "evalue": "\"check_uniform_bounds\" not implemented for 'Long'",
     "output_type": "error",
     "traceback": [
      "\u001b[0;31m---------------------------------------------------------------------------\u001b[0m",
      "\u001b[0;31mRuntimeError\u001b[0m                              Traceback (most recent call last)",
      "\u001b[0;32m/var/folders/75/9f8mm4ns0sl_6hl06vqbwdvm0000gr/T/ipykernel_81898/2012293427.py\u001b[0m in \u001b[0;36m<module>\u001b[0;34m\u001b[0m\n\u001b[0;32m----> 1\u001b[0;31m \u001b[0mtorch\u001b[0m\u001b[0;34m.\u001b[0m\u001b[0mrand_like\u001b[0m\u001b[0;34m(\u001b[0m\u001b[0ma\u001b[0m\u001b[0;34m)\u001b[0m\u001b[0;34m\u001b[0m\u001b[0;34m\u001b[0m\u001b[0m\n\u001b[0m",
      "\u001b[0;31mRuntimeError\u001b[0m: \"check_uniform_bounds\" not implemented for 'Long'"
     ]
    }
   ],
   "source": [
    "torch.rand_like(a)\n",
    "'''\n",
    "the torch function rand_like is not implemented for Long/int type (which is dtype of a). So need\n",
    "to change it's dtype to float or double.\n",
    "'''"
   ]
  },
  {
   "cell_type": "code",
   "execution_count": 35,
   "id": "1a3e1ffc",
   "metadata": {},
   "outputs": [
    {
     "data": {
      "text/plain": [
       "tensor([[0.7182, 0.3845, 0.0898],\n",
       "        [0.1175, 0.6402, 0.1968]], dtype=torch.float64)"
      ]
     },
     "execution_count": 35,
     "metadata": {},
     "output_type": "execute_result"
    }
   ],
   "source": [
    "b = torch.tensor([[1,2,3],[4,5,6]], dtype=torch.double)\n",
    "torch.rand_like(b)"
   ]
  },
  {
   "cell_type": "code",
   "execution_count": 36,
   "id": "0fb69b51",
   "metadata": {},
   "outputs": [
    {
     "data": {
      "text/plain": [
       "tensor([[1., 2., 3.],\n",
       "        [4., 5., 6.]])"
      ]
     },
     "execution_count": 36,
     "metadata": {},
     "output_type": "execute_result"
    }
   ],
   "source": [
    "# To convert dtype of a tensor\n",
    "a.to(dtype=torch.float)"
   ]
  },
  {
   "cell_type": "code",
   "execution_count": null,
   "id": "d04bae5d",
   "metadata": {},
   "outputs": [
    {
     "data": {
      "text/plain": [
       "{'uint8': torch.uint8,\n",
       " 'int8': torch.int8,\n",
       " 'int16': torch.int16,\n",
       " 'short': torch.int16,\n",
       " 'int32': torch.int32,\n",
       " 'int': torch.int32,\n",
       " 'int64': torch.int64,\n",
       " 'long': torch.int64,\n",
       " 'float16': torch.float16,\n",
       " 'half': torch.float16,\n",
       " 'float32': torch.float32,\n",
       " 'float': torch.float32,\n",
       " 'float64': torch.float64,\n",
       " 'double': torch.float64,\n",
       " 'complex32': torch.complex32,\n",
       " 'chalf': torch.complex32,\n",
       " 'complex64': torch.complex64,\n",
       " 'cfloat': torch.complex64,\n",
       " 'complex128': torch.complex128,\n",
       " 'cdouble': torch.complex128,\n",
       " 'bool': torch.bool,\n",
       " 'qint8': torch.qint8,\n",
       " 'quint8': torch.quint8,\n",
       " 'qint32': torch.qint32,\n",
       " 'bfloat16': torch.bfloat16,\n",
       " 'quint4x2': torch.quint4x2,\n",
       " 'quint2x4': torch.quint2x4}"
      ]
     },
     "execution_count": 41,
     "metadata": {},
     "output_type": "execute_result"
    }
   ],
   "source": [
    "'''\n",
    "vars(torch): gives all the attributes/functions of torch/any class passed as argument.\n",
    "quint are for quantized\n",
    "'''\n",
    "dtypes = {key:val for key, val in vars(torch).items() if isinstance(val, torch.dtype)}\n",
    "dtypes"
   ]
  },
  {
   "cell_type": "code",
   "execution_count": null,
   "id": "330ac517",
   "metadata": {},
   "outputs": [
    {
     "data": {
      "text/plain": [
       "(tensor([[10, 10, 10],\n",
       "         [10, 10, 10]]),\n",
       " tensor([[12, 12, 12],\n",
       "         [12, 12, 12]]),\n",
       " tensor([[8, 8, 8],\n",
       "         [8, 8, 8]]),\n",
       " tensor([[20, 20, 20],\n",
       "         [20, 20, 20]]),\n",
       " tensor([[3.3333, 3.3333, 3.3333],\n",
       "         [3.3333, 3.3333, 3.3333]]),\n",
       " tensor([[3, 3, 3],\n",
       "         [3, 3, 3]]))"
      ]
     },
     "execution_count": 50,
     "metadata": {},
     "output_type": "execute_result"
    }
   ],
   "source": [
    "# Mathematical operations\n",
    "a = torch.full((2,3), 10)\n",
    "# scalar operations\n",
    "a, a+2, a-2, a*2, a/3, a//3"
   ]
  },
  {
   "cell_type": "code",
   "execution_count": 52,
   "id": "c33ec7e5",
   "metadata": {},
   "outputs": [
    {
     "data": {
      "text/plain": [
       "(tensor([[15, 15, 15],\n",
       "         [15, 15, 15]]),\n",
       " tensor([[5, 5, 5],\n",
       "         [5, 5, 5]]),\n",
       " tensor([[50, 50, 50],\n",
       "         [50, 50, 50]]),\n",
       " tensor([[2., 2., 2.],\n",
       "         [2., 2., 2.]]),\n",
       " tensor([[100000, 100000, 100000],\n",
       "         [100000, 100000, 100000]]),\n",
       " tensor([[0, 0, 0],\n",
       "         [0, 0, 0]]))"
      ]
     },
     "execution_count": 52,
     "metadata": {},
     "output_type": "execute_result"
    }
   ],
   "source": [
    "# Elementwise operations\n",
    "b = torch.full((2,3), 5)\n",
    "a+b, a-b, a*b, a/b, a**b, a%b"
   ]
  },
  {
   "cell_type": "code",
   "execution_count": null,
   "id": "7e263a03",
   "metadata": {},
   "outputs": [
    {
     "data": {
      "text/plain": [
       "(tensor([[-0.6331,  0.8795, -0.6842,  0.4533],\n",
       "         [ 0.2912, -0.8317, -0.5525,  0.6355],\n",
       "         [-0.3968, -0.6571, -1.6428,  0.9803]]),\n",
       " tensor([[0.6331, 0.8795, 0.6842, 0.4533],\n",
       "         [0.2912, 0.8317, 0.5525, 0.6355],\n",
       "         [0.3968, 0.6571, 1.6428, 0.9803]]),\n",
       " tensor([[-1.,  1., -1.,  0.],\n",
       "         [ 0., -1., -1.,  1.],\n",
       "         [-0., -1., -2.,  1.]]),\n",
       " tensor([[-0.,  1., -0.,  1.],\n",
       "         [ 1., -0., -0.,  1.],\n",
       "         [-0., -0., -1.,  1.]]),\n",
       " tensor([[-1.,  0., -1.,  0.],\n",
       "         [ 0., -1., -1.,  0.],\n",
       "         [-1., -1., -2.,  0.]]),\n",
       " tensor([[-0.1000,  0.4000, -0.1000,  0.4000],\n",
       "         [ 0.2912, -0.1000, -0.1000,  0.4000],\n",
       "         [-0.1000, -0.1000, -0.1000,  0.4000]]))"
      ]
     },
     "execution_count": 55,
     "metadata": {},
     "output_type": "execute_result"
    }
   ],
   "source": [
    "# operations on single tensor\n",
    "a = torch.randn((3,4))\n",
    "a, torch.abs(a), torch.round(a), torch.ceil(a), torch.floor(a), torch.clamp(a, min=-0.1, max=0.4)"
   ]
  },
  {
   "cell_type": "code",
   "execution_count": 74,
   "id": "406247cc",
   "metadata": {},
   "outputs": [
    {
     "data": {
      "text/plain": [
       "(tensor([[0., 4., 4., 3.],\n",
       "         [3., 3., 1., 1.],\n",
       "         [4., 2., 3., 4.]]),\n",
       " tensor(32.),\n",
       " tensor([[11.],\n",
       "         [ 8.],\n",
       "         [13.]]),\n",
       " tensor([[7., 9., 8., 8.]]),\n",
       " tensor(2.6667),\n",
       " tensor([[2.7500],\n",
       "         [2.0000],\n",
       "         [3.2500]]),\n",
       " tensor(3.),\n",
       " tensor(4.),\n",
       " tensor(0.),\n",
       " tensor(0.),\n",
       " tensor(1.3707),\n",
       " tensor(1.8788),\n",
       " tensor(1),\n",
       " tensor(0))"
      ]
     },
     "execution_count": 74,
     "metadata": {},
     "output_type": "execute_result"
    }
   ],
   "source": [
    "# Tensor reduction\n",
    "torch.manual_seed(1)\n",
    "a = torch.randint(0, 5, (3,4), dtype=torch.float)\n",
    "a, torch.sum(a), torch.sum(a, dim=1, keepdim=True), torch.sum(a, dim=0, keepdim=True), torch.mean(a),\\\n",
    "    torch.mean(a, dim=1, keepdim=True), torch.median(a), torch.max(a), torch.min(a), torch.prod(a),\\\n",
    "    torch.std(a), torch.var(a), torch.argmax(a), torch.argmin(a)\n"
   ]
  },
  {
   "cell_type": "code",
   "execution_count": null,
   "id": "ff2a241c",
   "metadata": {},
   "outputs": [
    {
     "data": {
      "text/plain": [
       "(tensor([[1., 3., 3., 0.],\n",
       "         [2., 1., 2., 1.],\n",
       "         [0., 3., 1., 4.]]),\n",
       " tensor([[8., 6., 9.],\n",
       "         [7., 9., 9.],\n",
       "         [8., 6., 7.],\n",
       "         [8., 7., 8.]]),\n",
       " tensor([[53., 51., 57.],\n",
       "         [47., 40., 49.],\n",
       "         [61., 61., 66.]]))"
      ]
     },
     "execution_count": 75,
     "metadata": {},
     "output_type": "execute_result"
    }
   ],
   "source": [
    "# matrix operations\n",
    "a = torch.randint(0, 5, (3,4), dtype=torch.float)\n",
    "b = torch.randint(5, 10, (4,3), dtype=torch.float)\n",
    "# matrix multiplications\n",
    "a, b, torch.matmul(a,b)"
   ]
  },
  {
   "cell_type": "code",
   "execution_count": 77,
   "id": "ba101b34",
   "metadata": {},
   "outputs": [
    {
     "data": {
      "text/plain": [
       "(tensor([[3., 1., 2., 0.],\n",
       "         [0., 4., 0., 3.],\n",
       "         [3., 0., 3., 4.]]),\n",
       " tensor([[6., 9., 9., 5.],\n",
       "         [8., 5., 6., 8.],\n",
       "         [6., 9., 7., 8.]]),\n",
       " tensor([[18.,  9., 18.,  0.],\n",
       "         [ 0., 20.,  0., 24.],\n",
       "         [18.,  0., 21., 32.]]))"
      ]
     },
     "execution_count": 77,
     "metadata": {},
     "output_type": "execute_result"
    }
   ],
   "source": [
    "a = torch.randint(0, 5, (3,4), dtype=torch.float)\n",
    "b = torch.randint(5, 10, (3,4), dtype=torch.float)\n",
    "# dot product\n",
    "a, b, a*b"
   ]
  },
  {
   "cell_type": "code",
   "execution_count": 79,
   "id": "88cc0a2a",
   "metadata": {},
   "outputs": [
    {
     "data": {
      "text/plain": [
       "(tensor([[3., 0., 3.],\n",
       "         [1., 4., 0.],\n",
       "         [2., 0., 3.],\n",
       "         [0., 3., 4.]]),\n",
       " tensor([[3., 0., 3.],\n",
       "         [1., 4., 0.],\n",
       "         [2., 0., 3.],\n",
       "         [0., 3., 4.]]))"
      ]
     },
     "execution_count": 79,
     "metadata": {},
     "output_type": "execute_result"
    }
   ],
   "source": [
    "# Transpose\n",
    "a.T, a.transpose(0,1)"
   ]
  },
  {
   "cell_type": "code",
   "execution_count": null,
   "id": "d8c8e48f",
   "metadata": {},
   "outputs": [],
   "source": [
    "# determinant, inverse of sq matrix: torch.det(a), torch.inverse(a)"
   ]
  },
  {
   "cell_type": "code",
   "execution_count": null,
   "id": "af2e19ad",
   "metadata": {},
   "outputs": [
    {
     "data": {
      "text/plain": [
       "(tensor([[2., 1., 9., 7.],\n",
       "         [9., 9., 3., 4.],\n",
       "         [2., 1., 9., 6.]]),\n",
       " tensor([[8., 9., 8., 8.],\n",
       "         [6., 7., 9., 9.],\n",
       "         [1., 7., 2., 5.]]),\n",
       " tensor([[False, False,  True, False],\n",
       "         [ True,  True, False, False],\n",
       "         [ True, False,  True,  True]]),\n",
       " tensor([[ True,  True, False,  True],\n",
       "         [False, False,  True,  True],\n",
       "         [False,  True, False, False]]),\n",
       " tensor([[False, False, False, False],\n",
       "         [False, False, False, False],\n",
       "         [False, False, False, False]]))"
      ]
     },
     "execution_count": 83,
     "metadata": {},
     "output_type": "execute_result"
    }
   ],
   "source": [
    "# comparison operations\n",
    "a = torch.randint(0, 10, (3,4), dtype=torch.float)\n",
    "b = torch.randint(0, 10, (3,4), dtype=torch.float)\n",
    "a, b, a > b, a<b, a==b"
   ]
  },
  {
   "cell_type": "code",
   "execution_count": null,
   "id": "28a2d0ba",
   "metadata": {},
   "outputs": [
    {
     "data": {
      "text/plain": [
       "(tensor([[2.1972, 0.0000,   -inf, 1.3863],\n",
       "         [0.0000, 2.1972, 1.0986, 1.7918],\n",
       "         [0.6931, 1.3863, 2.0794, 1.7918]]),\n",
       " tensor([[8.1031e+03, 2.7183e+00, 1.0000e+00, 5.4598e+01],\n",
       "         [2.7183e+00, 8.1031e+03, 2.0086e+01, 4.0343e+02],\n",
       "         [7.3891e+00, 5.4598e+01, 2.9810e+03, 4.0343e+02]]),\n",
       " tensor([[3.0000, 1.0000, 0.0000, 2.0000],\n",
       "         [1.0000, 3.0000, 1.7321, 2.4495],\n",
       "         [1.4142, 2.0000, 2.8284, 2.4495]]),\n",
       " tensor([[0.9999, 0.7311, 0.5000, 0.9820],\n",
       "         [0.7311, 0.9999, 0.9526, 0.9975],\n",
       "         [0.8808, 0.9820, 0.9997, 0.9975]]),\n",
       " tensor([[9.9875e-01, 3.3311e-04, 3.3311e-04, 6.3379e-02],\n",
       "         [3.3504e-04, 9.9298e-01, 6.6906e-03, 4.6831e-01],\n",
       "         [9.1075e-04, 6.6906e-03, 9.9298e-01, 4.6831e-01]]),\n",
       " tensor([[9., 1., 0., 4.],\n",
       "         [1., 9., 3., 6.],\n",
       "         [2., 4., 8., 6.]]))"
      ]
     },
     "execution_count": 88,
     "metadata": {},
     "output_type": "execute_result"
    }
   ],
   "source": [
    "# Special functions\n",
    "a = torch.randint(0, 10, (3,4), dtype=torch.float)\n",
    "torch.log(a), torch.exp(a), torch.sqrt(a), torch.sigmoid(a), torch.softmax(a, dim=0), torch.relu(a)"
   ]
  },
  {
   "cell_type": "code",
   "execution_count": null,
   "id": "bde6f8d7",
   "metadata": {},
   "outputs": [
    {
     "name": "stdout",
     "output_type": "stream",
     "text": [
      "tensor([[8., 1., 2., 6.],\n",
      "        [5., 3., 9., 1.],\n",
      "        [5., 6., 2., 6.]]) \n",
      " tensor([[ -3.,   2.,   3.,  -9.],\n",
      "        [  0.,   3.,  -3.,   4.],\n",
      "        [  6.,   3.,  -5., -10.]])\n",
      "tensor([[ 5.,  3.,  5., -3.],\n",
      "        [ 5.,  6.,  6.,  5.],\n",
      "        [11.,  9., -3., -4.]]) \n",
      " tensor([[ 5.,  3.,  5., -3.],\n",
      "        [ 5.,  6.,  6.,  5.],\n",
      "        [11.,  9., -3., -4.]]) \n",
      " tensor([[0., 2., 3., 0.],\n",
      "        [0., 3., 0., 4.],\n",
      "        [6., 3., 0., 0.]])\n"
     ]
    }
   ],
   "source": [
    "# Inplace operations\n",
    "\n",
    "'''\n",
    "When we have very large tensors we would not want to create a new tensor. But be cautious because\n",
    "in backpropgation it could break things.\n",
    "a += b (inplace, can break backprop)\n",
    "a = a+b (not inplace, creates new tensor a and won't break backprop)\n",
    "to do inplace operations just append '_' to the operators/functions. Supported by most operators/functions.\n",
    "'''\n",
    "a = torch.randint(0, 10, (3,4), dtype=torch.float)\n",
    "b = torch.randint(-10, 10, (3,4), dtype=torch.float)\n",
    "print(a,\"\\n\" ,b)\n",
    "print(a.add_(b),\"\\n\" , a,\"\\n\" , b.relu_())"
   ]
  },
  {
   "cell_type": "code",
   "execution_count": 101,
   "id": "1947cf7d",
   "metadata": {},
   "outputs": [
    {
     "data": {
      "text/plain": [
       "(5070111952, 5070111952)"
      ]
     },
     "execution_count": 101,
     "metadata": {},
     "output_type": "execute_result"
    }
   ],
   "source": [
    "# Copy tensor\n",
    "a = torch.randint(0, 10, (3,4), dtype=torch.float)\n",
    "b = a # (not this, b is also changed if a is changed as b is just a reference to a)\n",
    "id(a), id(b) # both pointing to same location in memory"
   ]
  },
  {
   "cell_type": "code",
   "execution_count": 102,
   "id": "93435b8e",
   "metadata": {},
   "outputs": [
    {
     "data": {
      "text/plain": [
       "(5070111952, 5070390096)"
      ]
     },
     "execution_count": 102,
     "metadata": {},
     "output_type": "execute_result"
    }
   ],
   "source": [
    "b = a.clone()\n",
    "id(a), id(b)"
   ]
  },
  {
   "cell_type": "code",
   "execution_count": 108,
   "id": "e4b3e70a",
   "metadata": {},
   "outputs": [],
   "source": [
    "# Moving existing tensor to gpu\n",
    "a = torch.randn(10000,10000, device=torch.device('cpu'))\n",
    "b = torch.randn(10000,10000, device=torch.device('cpu'))"
   ]
  },
  {
   "cell_type": "code",
   "execution_count": 107,
   "id": "245000d7",
   "metadata": {},
   "outputs": [],
   "source": [
    "import time"
   ]
  },
  {
   "cell_type": "code",
   "execution_count": 109,
   "id": "1741f55f",
   "metadata": {},
   "outputs": [
    {
     "name": "stdout",
     "output_type": "stream",
     "text": [
      "time taken in sec: 47.13321614265442\n"
     ]
    }
   ],
   "source": [
    "# On cpu\n",
    "start = time.time()\n",
    "torch.matmul(a,b)\n",
    "print(f\"time taken in sec: {time.time() - start}\")"
   ]
  },
  {
   "cell_type": "code",
   "execution_count": 110,
   "id": "b78d2726",
   "metadata": {},
   "outputs": [],
   "source": [
    "a = a.to(device=torch.device('mps'))\n",
    "b = b.to(device=torch.device('mps'))"
   ]
  },
  {
   "cell_type": "code",
   "execution_count": 111,
   "id": "27334c70",
   "metadata": {},
   "outputs": [
    {
     "name": "stdout",
     "output_type": "stream",
     "text": [
      "time taken in sec: 0.44126200675964355\n"
     ]
    }
   ],
   "source": [
    "# On apple gpu\n",
    "start = time.time()\n",
    "torch.matmul(a,b)\n",
    "print(f\"time taken in sec: {time.time() - start}\")"
   ]
  },
  {
   "cell_type": "code",
   "execution_count": null,
   "id": "a5631c0a",
   "metadata": {},
   "outputs": [],
   "source": [
    "\"\"\"\n",
    "Drastic difference in time taken to multiply the two tensors on cpu and gpu\n",
    "\"\"\""
   ]
  },
  {
   "cell_type": "code",
   "execution_count": 115,
   "id": "c0ac550c",
   "metadata": {},
   "outputs": [
    {
     "data": {
      "text/plain": [
       "tensor([ 0,  1,  2,  3,  4,  5,  6,  7,  8,  9, 10, 11, 12, 13, 14, 15, 16, 17,\n",
       "        18, 19, 20, 21, 22, 23])"
      ]
     },
     "execution_count": 115,
     "metadata": {},
     "output_type": "execute_result"
    }
   ],
   "source": [
    "# Reshaping Tensors\n",
    "a = torch.arange(0,24)\n",
    "a"
   ]
  },
  {
   "cell_type": "code",
   "execution_count": 118,
   "id": "a5d03c95",
   "metadata": {},
   "outputs": [
    {
     "data": {
      "text/plain": [
       "(tensor([[[ 0,  1,  2],\n",
       "          [ 3,  4,  5],\n",
       "          [ 6,  7,  8],\n",
       "          [ 9, 10, 11]],\n",
       " \n",
       "         [[12, 13, 14],\n",
       "          [15, 16, 17],\n",
       "          [18, 19, 20],\n",
       "          [21, 22, 23]]]),\n",
       " tensor([ 0,  1,  2,  3,  4,  5,  6,  7,  8,  9, 10, 11, 12, 13, 14, 15, 16, 17,\n",
       "         18, 19, 20, 21, 22, 23]))"
      ]
     },
     "execution_count": 118,
     "metadata": {},
     "output_type": "execute_result"
    }
   ],
   "source": [
    "b = a.reshape(2,4,3)\n",
    "b, a"
   ]
  },
  {
   "cell_type": "code",
   "execution_count": null,
   "id": "9cc51089",
   "metadata": {},
   "outputs": [
    {
     "data": {
      "text/plain": [
       "tensor([ 0,  1,  2,  3,  4,  5,  6,  7,  8,  9, 10, 11, 12, 13, 14, 15, 16, 17,\n",
       "        18, 19, 20, 21, 22, 23])"
      ]
     },
     "execution_count": 121,
     "metadata": {},
     "output_type": "execute_result"
    }
   ],
   "source": [
    "b.flatten()"
   ]
  },
  {
   "cell_type": "code",
   "execution_count": 123,
   "id": "105c2cdb",
   "metadata": {},
   "outputs": [
    {
     "data": {
      "text/plain": [
       "(tensor([[[ 0,  3,  6,  9],\n",
       "          [12, 15, 18, 21]],\n",
       " \n",
       "         [[ 1,  4,  7, 10],\n",
       "          [13, 16, 19, 22]],\n",
       " \n",
       "         [[ 2,  5,  8, 11],\n",
       "          [14, 17, 20, 23]]]),\n",
       " torch.Size([3, 2, 4]))"
      ]
     },
     "execution_count": 123,
     "metadata": {},
     "output_type": "execute_result"
    }
   ],
   "source": [
    "b.permute(2,0,1), b.permute(2,0,1).shape"
   ]
  },
  {
   "cell_type": "code",
   "execution_count": 128,
   "id": "8c284c2b",
   "metadata": {},
   "outputs": [
    {
     "data": {
      "text/plain": [
       "(torch.Size([2, 4, 3]),\n",
       " tensor([[[[ 0,  1,  2],\n",
       "           [ 3,  4,  5],\n",
       "           [ 6,  7,  8],\n",
       "           [ 9, 10, 11]],\n",
       " \n",
       "          [[12, 13, 14],\n",
       "           [15, 16, 17],\n",
       "           [18, 19, 20],\n",
       "           [21, 22, 23]]]]),\n",
       " torch.Size([1, 2, 4, 3]))"
      ]
     },
     "execution_count": 128,
     "metadata": {},
     "output_type": "execute_result"
    }
   ],
   "source": [
    "b.shape, b.unsqueeze(0), b.unsqueeze(0).shape"
   ]
  },
  {
   "cell_type": "code",
   "execution_count": 134,
   "id": "5620b0e8",
   "metadata": {},
   "outputs": [
    {
     "data": {
      "text/plain": [
       "(torch.Size([2, 4, 3]),\n",
       " tensor([[[ 0,  1,  2],\n",
       "          [ 3,  4,  5],\n",
       "          [ 6,  7,  8],\n",
       "          [ 9, 10, 11]],\n",
       " \n",
       "         [[12, 13, 14],\n",
       "          [15, 16, 17],\n",
       "          [18, 19, 20],\n",
       "          [21, 22, 23]]]),\n",
       " torch.Size([1, 2, 4, 3]),\n",
       " torch.Size([2, 4, 3]))"
      ]
     },
     "execution_count": 134,
     "metadata": {},
     "output_type": "execute_result"
    }
   ],
   "source": [
    "b.shape, b.squeeze(0), b.unsqueeze(0).shape, b.unsqueeze(0).squeeze(0).shape"
   ]
  },
  {
   "cell_type": "code",
   "execution_count": 138,
   "id": "046ca9de",
   "metadata": {},
   "outputs": [
    {
     "data": {
      "text/plain": [
       "(tensor([1, 2, 3]), array([4, 5, 6]))"
      ]
     },
     "execution_count": 138,
     "metadata": {},
     "output_type": "execute_result"
    }
   ],
   "source": [
    "# convert tensor to numpy array and vice versa\n",
    "import numpy as np\n",
    "a = np.array([1,2,3])\n",
    "b = torch.tensor([4,5,6])\n",
    "torch.from_numpy(a), b.numpy()"
   ]
  },
  {
   "cell_type": "code",
   "execution_count": null,
   "id": "2658474a",
   "metadata": {},
   "outputs": [],
   "source": []
  }
 ],
 "metadata": {
  "kernelspec": {
   "display_name": "Python 3",
   "language": "python",
   "name": "python3"
  },
  "language_info": {
   "codemirror_mode": {
    "name": "ipython",
    "version": 3
   },
   "file_extension": ".py",
   "mimetype": "text/x-python",
   "name": "python",
   "nbconvert_exporter": "python",
   "pygments_lexer": "ipython3",
   "version": "3.7.12"
  }
 },
 "nbformat": 4,
 "nbformat_minor": 5
}
